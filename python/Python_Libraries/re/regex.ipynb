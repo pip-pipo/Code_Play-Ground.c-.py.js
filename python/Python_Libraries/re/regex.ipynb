{
 "metadata": {
  "language_info": {
   "codemirror_mode": {
    "name": "ipython",
    "version": 3
   },
   "file_extension": ".py",
   "mimetype": "text/x-python",
   "name": "python",
   "nbconvert_exporter": "python",
   "pygments_lexer": "ipython3",
   "version": "3.8.6"
  },
  "orig_nbformat": 2,
  "kernelspec": {
   "name": "python386jvsc74a57bd04447cc7378cf30879333494e5d460e5c62c12902847286c87503f98d25a71d26",
   "display_name": "Python 3.8.6 64-bit"
  },
  "metadata": {
   "interpreter": {
    "hash": "4447cc7378cf30879333494e5d460e5c62c12902847286c87503f98d25a71d26"
   }
  }
 },
 "nbformat": 4,
 "nbformat_minor": 2,
 "cells": [
  {
   "cell_type": "code",
   "execution_count": 11,
   "metadata": {},
   "outputs": [
    {
     "output_type": "stream",
     "name": "stdout",
     "text": [
      "['4', '5', '5', '5', '5', '4', '5', '4']\n['r the raing in spai.{} d//..n ', '', ' ', '', '', ' ', '54']\n"
     ]
    }
   ],
   "source": [
    "import re \n",
    "text = \"r the raing in spai.{} d//..n 45 555 454\"\n",
    "x = re.findall(\"\\d\" , text)\n",
    "print(x)\n",
    "x = re.split(\"\\d\",text,6)\n",
    "print(x)"
   ]
  },
  {
   "cell_type": "code",
   "execution_count": 14,
   "metadata": {},
   "outputs": [
    {
     "output_type": "stream",
     "name": "stdout",
     "text": [
      "morsalin9bad9boy9teath\n"
     ]
    }
   ],
   "source": [
    "texts = \"morsalin bad boy teath\"\n",
    "x = re.sub(\"\\s\",\"9\" ,texts)\n",
    "print(x)"
   ]
  },
  {
   "cell_type": "code",
   "execution_count": 17,
   "metadata": {},
   "outputs": [
    {
     "output_type": "stream",
     "name": "stdout",
     "text": [
      "<re.Match object; span=(9, 14), match='Sdfds'>\n"
     ]
    }
   ],
   "source": [
    "import re\n",
    "mans = \"hero man Sdfds is a hero not good badly hear\"\n",
    "x = re.search(r\"\\bS\\w+\",mans)\n",
    "print(x)"
   ]
  },
  {
   "cell_type": "code",
   "execution_count": 8,
   "metadata": {},
   "outputs": [
    {
     "output_type": "stream",
     "name": "stdout",
     "text": [
      "<re.Match object; span=(5, 7), match='ai'>\n"
     ]
    }
   ],
   "source": [
    "import re\n",
    "text = \"the rain in dhaka\"\n",
    "x = re.sub(\"\\s\",\"8\",text,1)\n",
    "x = re.search(\"ai\",text)\n",
    "print(x)"
   ]
  },
  {
   "cell_type": "code",
   "execution_count": null,
   "metadata": {},
   "outputs": [],
   "source": []
  }
 ]
}