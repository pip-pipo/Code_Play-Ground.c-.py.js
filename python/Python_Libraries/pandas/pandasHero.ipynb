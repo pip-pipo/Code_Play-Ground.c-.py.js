{
 "metadata": {
  "language_info": {
   "codemirror_mode": {
    "name": "ipython",
    "version": 3
   },
   "file_extension": ".py",
   "mimetype": "text/x-python",
   "name": "python",
   "nbconvert_exporter": "python",
   "pygments_lexer": "ipython3",
   "version": "3.8.6"
  },
  "orig_nbformat": 2,
  "kernelspec": {
   "name": "python386jvsc74a57bd04447cc7378cf30879333494e5d460e5c62c12902847286c87503f98d25a71d26",
   "display_name": "Python 3.8.6 64-bit"
  },
  "metadata": {
   "interpreter": {
    "hash": "4447cc7378cf30879333494e5d460e5c62c12902847286c87503f98d25a71d26"
   }
  }
 },
 "nbformat": 4,
 "nbformat_minor": 2,
 "cells": [
  {
   "cell_type": "code",
   "execution_count": 1,
   "metadata": {},
   "outputs": [
    {
     "output_type": "stream",
     "name": "stdout",
     "text": [
      "morsalin\nmorsalin\nmorsalin\nmorsalin\nmorsalin\nmorsalin\nmorsalin\nmorsalin\nmorsalin\nmorsalin\nmorsalincodemi692@gmail.com01820348783am from dhaka\n1\nmorsalin\nmorsalin\nmorsalin\nmorsalin\nmorsalin\nmorsalin\nmorsalin\nmorsalin\nmorsalin\nmorsalin\nmorsalincodemi692@gmail.com01820348783am from dhaka\n2\n"
     ]
    }
   ],
   "source": [
    "#working one task \n",
    "\n",
    "import time \n",
    "import random\n",
    "import sys\n",
    "\n",
    "execution = 0\n",
    "\n",
    "def therade1(name,email,phone,address):\n",
    "    global execution\n",
    "    for i in range(10):\n",
    "         morsalin()\n",
    "    if(name,email,phone,address):\n",
    "        execution+=1\n",
    "        print(f\"{name}{email}{phone}{address}\")\n",
    "        print(execution)\n",
    "    else:\n",
    "        print(\"please enter correct value\")\n",
    "\n",
    "def morsalin():\n",
    "    print(\"morsalin\")\n",
    "\n",
    "\n",
    "for i in range(random.randint(1,10)):\n",
    "    therade1('morsalin',\"codemi692@gmail.com\",\"01820348783\",\"am from dhaka\")\n",
    "\n",
    "\n",
    "\n"
   ]
  },
  {
   "cell_type": "code",
   "execution_count": 13,
   "metadata": {},
   "outputs": [
    {
     "output_type": "stream",
     "name": "stdout",
     "text": [
      "1024\n"
     ]
    }
   ],
   "source": [
    "def take(a,b):\n",
    "    print(a**b)\n",
    "\n",
    "x = lambda a,b : take(a,b)\n",
    "\n",
    "x(4,5)"
   ]
  },
  {
   "cell_type": "code",
   "execution_count": 18,
   "metadata": {},
   "outputs": [
    {
     "output_type": "stream",
     "name": "stdout",
     "text": [
      "2021-04-21 21:59:48.142497\n2021\n<built-in method strftime of datetime.datetime object at 0x00000235CED45810>\n"
     ]
    }
   ],
   "source": [
    "import datetime\n",
    "x = datetime.datetime.now()\n",
    "print(x)\n",
    "print(x.year)\n",
    "print(x.)"
   ]
  },
  {
   "cell_type": "code",
   "execution_count": 10,
   "metadata": {},
   "outputs": [
    {
     "output_type": "stream",
     "name": "stdout",
     "text": [
      "<re.Match object; span=(5, 6), match='a'>\n<re.Match object; span=(4, 5), match=' '>\n<re.Match object; span=(4, 8), match='rain'>\n"
     ]
    }
   ],
   "source": [
    "import re\n",
    "text = \"The rain in Spain\"\n",
    "x = re.search(\"[a-b]\",text)\n",
    "print(x)\n",
    "maxi = \"this is a comments s\"\n",
    "x = re.search(\"\\s\",maxi)\n",
    "print(x)\n",
    "\n",
    "txt = \"the rain in dhaka\"\n",
    "x = re.search(\"rain\",txt)\n",
    "print(x)"
   ]
  },
  {
   "cell_type": "code",
   "execution_count": null,
   "metadata": {},
   "outputs": [],
   "source": []
  }
 ]
}